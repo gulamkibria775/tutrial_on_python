{
 "cells": [
  {
   "cell_type": "code",
   "execution_count": 1,
   "id": "2671673b-bba9-4fcb-913a-7fb0deb085e3",
   "metadata": {},
   "outputs": [],
   "source": [
    "var = 100"
   ]
  },
  {
   "cell_type": "code",
   "execution_count": 2,
   "id": "14108429-6e4b-48de-bbce-1a9d15bf10f4",
   "metadata": {},
   "outputs": [
    {
     "name": "stdout",
     "output_type": "stream",
     "text": [
      "100\n"
     ]
    }
   ],
   "source": [
    "print(var)"
   ]
  },
  {
   "cell_type": "code",
   "execution_count": 4,
   "id": "65dfb049-524d-4fec-923a-4d7713ab9fe0",
   "metadata": {},
   "outputs": [
    {
     "name": "stdout",
     "output_type": "stream",
     "text": [
      "2173396847952\n"
     ]
    }
   ],
   "source": [
    "print(id(var))"
   ]
  },
  {
   "cell_type": "code",
   "execution_count": 5,
   "id": "1a08120f-e94d-4df2-98f8-3a054863e4d7",
   "metadata": {},
   "outputs": [],
   "source": [
    "# numeric\n",
    "# text\n",
    "# float (decimal)\n",
    "# Boolean Variables (true , flase)"
   ]
  },
  {
   "cell_type": "code",
   "execution_count": 6,
   "id": "8b84606c-d11c-479b-a6db-2e888de681f8",
   "metadata": {},
   "outputs": [
    {
     "name": "stdout",
     "output_type": "stream",
     "text": [
      "121\n"
     ]
    }
   ],
   "source": [
    "# numeric variable \n",
    "numeric = 121\n",
    "print(numeric)"
   ]
  },
  {
   "cell_type": "code",
   "execution_count": 7,
   "id": "f20353c6-b50e-404f-ae85-cee648f59622",
   "metadata": {},
   "outputs": [
    {
     "name": "stdout",
     "output_type": "stream",
     "text": [
      "121\n"
     ]
    }
   ],
   "source": [
    "print(numeric)"
   ]
  },
  {
   "cell_type": "code",
   "execution_count": 8,
   "id": "99382c58-45aa-4ad2-a2b4-ad7fa3334a9d",
   "metadata": {},
   "outputs": [],
   "source": [
    "# textual variable \n",
    "text = \"statistics world\""
   ]
  },
  {
   "cell_type": "code",
   "execution_count": 9,
   "id": "2bd5db4c-445f-4731-b096-d4e0abd5d5ec",
   "metadata": {},
   "outputs": [
    {
     "name": "stdout",
     "output_type": "stream",
     "text": [
      "Ajay Sati\n"
     ]
    }
   ],
   "source": [
    "print(text)"
   ]
  },
  {
   "cell_type": "code",
   "execution_count": 10,
   "id": "07056821-7825-4aaf-9808-cedb6c5d0191",
   "metadata": {},
   "outputs": [
    {
     "name": "stdout",
     "output_type": "stream",
     "text": [
      "38.5\n"
     ]
    }
   ],
   "source": [
    "#float variable\n",
    "flo = 38.5\n",
    "print(flo)"
   ]
  },
  {
   "cell_type": "code",
   "execution_count": 11,
   "id": "ec16ada6-d011-4e4b-aaed-201bfe0c3403",
   "metadata": {},
   "outputs": [
    {
     "name": "stdout",
     "output_type": "stream",
     "text": [
      "True\n"
     ]
    }
   ],
   "source": [
    "# Boolean Variable\n",
    "boolean = True\n",
    "print(boolean)"
   ]
  },
  {
   "cell_type": "code",
   "execution_count": 12,
   "id": "de7b14ca-5cf5-4bba-bd2f-542ba6a24c80",
   "metadata": {},
   "outputs": [],
   "source": [
    "we = 1000000"
   ]
  },
  {
   "cell_type": "code",
   "execution_count": 13,
   "id": "48ede9fd-bc32-4b61-96ce-0d13c18e42d3",
   "metadata": {},
   "outputs": [
    {
     "name": "stdout",
     "output_type": "stream",
     "text": [
      "1000000\n"
     ]
    }
   ],
   "source": [
    "print(we)"
   ]
  },
  {
   "cell_type": "code",
   "execution_count": 14,
   "id": "0dd1d6fc-41c2-411f-b33d-28b9f10bb10d",
   "metadata": {},
   "outputs": [
    {
     "data": {
      "text/plain": [
       "1000000"
      ]
     },
     "execution_count": 14,
     "metadata": {},
     "output_type": "execute_result"
    }
   ],
   "source": [
    "we"
   ]
  },
  {
   "cell_type": "code",
   "execution_count": 15,
   "id": "d7e41628-0978-43eb-8e4f-57584b23411e",
   "metadata": {},
   "outputs": [
    {
     "data": {
      "text/plain": [
       "int"
      ]
     },
     "execution_count": 15,
     "metadata": {},
     "output_type": "execute_result"
    }
   ],
   "source": [
    "type(we)"
   ]
  },
  {
   "cell_type": "code",
   "execution_count": 16,
   "id": "00520865-ab28-4eb6-92f4-9068fc31ac5c",
   "metadata": {},
   "outputs": [
    {
     "data": {
      "text/plain": [
       "bool"
      ]
     },
     "execution_count": 16,
     "metadata": {},
     "output_type": "execute_result"
    }
   ],
   "source": [
    "type(boolean)"
   ]
  },
  {
   "cell_type": "code",
   "execution_count": 17,
   "id": "f94f9a77-66b1-4755-bfa0-f04326c5a785",
   "metadata": {},
   "outputs": [
    {
     "data": {
      "text/plain": [
       "float"
      ]
     },
     "execution_count": 17,
     "metadata": {},
     "output_type": "execute_result"
    }
   ],
   "source": [
    "type(flo)"
   ]
  },
  {
   "cell_type": "code",
   "execution_count": 18,
   "id": "ca70656c-daa3-4d2e-9c0c-768eef6459ae",
   "metadata": {},
   "outputs": [
    {
     "data": {
      "text/plain": [
       "str"
      ]
     },
     "execution_count": 18,
     "metadata": {},
     "output_type": "execute_result"
    }
   ],
   "source": [
    "type(text)"
   ]
  },
  {
   "cell_type": "code",
   "execution_count": 19,
   "id": "5e3ff666-6ad7-4da8-bfda-57673b978b4f",
   "metadata": {},
   "outputs": [
    {
     "ename": "NameError",
     "evalue": "name 'Type' is not defined",
     "output_type": "error",
     "traceback": [
      "\u001b[1;31m---------------------------------------------------------------------------\u001b[0m",
      "\u001b[1;31mNameError\u001b[0m                                 Traceback (most recent call last)",
      "Cell \u001b[1;32mIn[19], line 1\u001b[0m\n\u001b[1;32m----> 1\u001b[0m \u001b[43mType\u001b[49m(text)\n",
      "\u001b[1;31mNameError\u001b[0m: name 'Type' is not defined"
     ]
    }
   ],
   "source": [
    "Type(text)"
   ]
  },
  {
   "cell_type": "code",
   "execution_count": 20,
   "id": "a02fc6e8-6f2d-452c-b3e6-21af21685119",
   "metadata": {},
   "outputs": [],
   "source": [
    "#  Rules of variables"
   ]
  },
  {
   "cell_type": "code",
   "execution_count": 21,
   "id": "747552c4-be14-4b29-a099-b50b7bd7cf82",
   "metadata": {},
   "outputs": [],
   "source": [
    "sfsgregre= 12"
   ]
  },
  {
   "cell_type": "code",
   "execution_count": 22,
   "id": "a40e9a44-46e6-4a31-b503-20f585c198c3",
   "metadata": {},
   "outputs": [
    {
     "name": "stdout",
     "output_type": "stream",
     "text": [
      "2173396845136\n"
     ]
    }
   ],
   "source": [
    "print(id(sfsgregre))"
   ]
  },
  {
   "cell_type": "code",
   "execution_count": 23,
   "id": "55c79c4e-fd09-4d8d-a72e-a67a26fecce2",
   "metadata": {},
   "outputs": [
    {
     "name": "stdout",
     "output_type": "stream",
     "text": [
      "2173396845136\n"
     ]
    }
   ],
   "source": [
    " Q= 12 \n",
    "print(id(Q))"
   ]
  },
  {
   "cell_type": "code",
   "execution_count": 24,
   "id": "f467ae21-1f97-4a1a-b4ae-e7d07335074e",
   "metadata": {},
   "outputs": [],
   "source": [
    "_q= 10"
   ]
  },
  {
   "cell_type": "code",
   "execution_count": 25,
   "id": "0f3be61b-b5f3-4259-bf63-2968bf7aa4fd",
   "metadata": {},
   "outputs": [
    {
     "data": {
      "text/plain": [
       "10"
      ]
     },
     "execution_count": 25,
     "metadata": {},
     "output_type": "execute_result"
    }
   ],
   "source": [
    "_q"
   ]
  },
  {
   "cell_type": "code",
   "execution_count": 26,
   "id": "83cf6654-39cf-484e-80b8-370eb3043622",
   "metadata": {},
   "outputs": [],
   "source": [
    "#operators. [Air]"
   ]
  },
  {
   "cell_type": "code",
   "execution_count": 27,
   "id": "b33b7ff2-14d1-4201-afc5-5bc2b18cd3f8",
   "metadata": {},
   "outputs": [
    {
     "name": "stdout",
     "output_type": "stream",
     "text": [
      "5\n"
     ]
    }
   ],
   "source": [
    "print(2+3)"
   ]
  },
  {
   "cell_type": "code",
   "execution_count": 28,
   "id": "efc77aa7-1e9e-4b49-b7e0-90ae927eec9d",
   "metadata": {},
   "outputs": [
    {
     "name": "stdout",
     "output_type": "stream",
     "text": [
      "-1\n"
     ]
    }
   ],
   "source": [
    "print(2-3)"
   ]
  },
  {
   "cell_type": "code",
   "execution_count": 29,
   "id": "bc636f93-b76e-4cd2-af93-bd64932be510",
   "metadata": {},
   "outputs": [
    {
     "name": "stdout",
     "output_type": "stream",
     "text": [
      "6\n"
     ]
    }
   ],
   "source": [
    "print(2*3)"
   ]
  },
  {
   "cell_type": "code",
   "execution_count": 30,
   "id": "82505c77-53dd-4cfd-890f-79ff8abe0dd4",
   "metadata": {},
   "outputs": [
    {
     "name": "stdout",
     "output_type": "stream",
     "text": [
      "2.3333333333333335\n"
     ]
    }
   ],
   "source": [
    "print(7/3)   # After decimal values."
   ]
  },
  {
   "cell_type": "code",
   "execution_count": 31,
   "id": "80aa8659-587f-4e05-88b5-68cdb7e23b78",
   "metadata": {},
   "outputs": [
    {
     "name": "stdout",
     "output_type": "stream",
     "text": [
      "2\n"
     ]
    }
   ],
   "source": [
    "print(7//3)   # before decimal Values."
   ]
  },
  {
   "cell_type": "code",
   "execution_count": 32,
   "id": "05c1a81c-7e47-400a-ad87-be10dfebc35c",
   "metadata": {},
   "outputs": [
    {
     "name": "stdout",
     "output_type": "stream",
     "text": [
      "0\n"
     ]
    }
   ],
   "source": [
    "print(9%3) #Reminder"
   ]
  },
  {
   "cell_type": "code",
   "execution_count": 33,
   "id": "5312ca7a-a802-4d75-9b6f-17fa0c13c89a",
   "metadata": {},
   "outputs": [],
   "source": [
    "# conditional Operators."
   ]
  },
  {
   "cell_type": "code",
   "execution_count": 36,
   "id": "1bd9acc4-f311-462c-b82e-4c01d14054cc",
   "metadata": {},
   "outputs": [],
   "source": [
    "no1 = int(input(\"Please Enter  first Number\"))\n",
    "no2 = float(input(\"Please Enter Second Number\"))"
   ]
  },
  {
   "cell_type": "code",
   "execution_count": 35,
   "id": "c6a09c4d-2eff-4f3f-a840-5cdc09a5fdf1",
   "metadata": {},
   "outputs": [
    {
     "data": {
      "text/plain": [
       "False"
      ]
     },
     "execution_count": 35,
     "metadata": {},
     "output_type": "execute_result"
    }
   ],
   "source": [
    "no1==no2"
   ]
  },
  {
   "cell_type": "code",
   "execution_count": 85,
   "id": "b784d6a1-b5b9-4a62-94b9-8fe6af45270c",
   "metadata": {},
   "outputs": [],
   "source": [
    "no1=no2"
   ]
  },
  {
   "cell_type": "code",
   "execution_count": 86,
   "id": "18919cb9-b5dd-4e89-9683-a0c6150242b6",
   "metadata": {},
   "outputs": [
    {
     "data": {
      "text/plain": [
       "True"
      ]
     },
     "execution_count": 86,
     "metadata": {},
     "output_type": "execute_result"
    }
   ],
   "source": [
    "no1==no2"
   ]
  },
  {
   "cell_type": "code",
   "execution_count": 87,
   "id": "bcfbaf00-c8b5-4b7c-97c6-8b342afda78c",
   "metadata": {},
   "outputs": [
    {
     "data": {
      "text/plain": [
       "False"
      ]
     },
     "execution_count": 87,
     "metadata": {},
     "output_type": "execute_result"
    }
   ],
   "source": [
    "no1!=no2"
   ]
  },
  {
   "cell_type": "code",
   "execution_count": 88,
   "id": "e682a1d7-04c2-4d24-b3c6-cce773776085",
   "metadata": {},
   "outputs": [
    {
     "data": {
      "text/plain": [
       "96.0"
      ]
     },
     "execution_count": 88,
     "metadata": {},
     "output_type": "execute_result"
    }
   ],
   "source": [
    "no1"
   ]
  },
  {
   "cell_type": "code",
   "execution_count": 89,
   "id": "6e12e2c9-0a10-4fb2-b0a4-57bd907a6681",
   "metadata": {},
   "outputs": [
    {
     "data": {
      "text/plain": [
       "96.0"
      ]
     },
     "execution_count": 89,
     "metadata": {},
     "output_type": "execute_result"
    }
   ],
   "source": [
    "no2"
   ]
  },
  {
   "cell_type": "code",
   "execution_count": 102,
   "id": "ea0bb535-3753-4ebd-8ffa-9335507bd6bd",
   "metadata": {},
   "outputs": [
    {
     "name": "stdout",
     "output_type": "stream",
     "text": [
      "Please Enter  first Number 26\n",
      "Please Enter Second Number M\n"
     ]
    }
   ],
   "source": [
    "Age = int(input(\"Please Enter  first Number\"))\n",
    "Gender= input(\"Please Enter Second Number\")"
   ]
  },
  {
   "cell_type": "code",
   "execution_count": 109,
   "id": "d255a9c1-8800-4a6e-b003-1bcf64862e28",
   "metadata": {},
   "outputs": [
    {
     "data": {
      "text/plain": [
       "True"
      ]
     },
     "execution_count": 109,
     "metadata": {},
     "output_type": "execute_result"
    }
   ],
   "source": [
    "Age == 23 or Gender == \"M\""
   ]
  },
  {
   "cell_type": "code",
   "execution_count": 98,
   "id": "a1669b59-4e76-4346-91b5-692214193d93",
   "metadata": {},
   "outputs": [
    {
     "data": {
      "text/plain": [
       "str"
      ]
     },
     "execution_count": 98,
     "metadata": {},
     "output_type": "execute_result"
    }
   ],
   "source": [
    "type(Gender)"
   ]
  },
  {
   "cell_type": "code",
   "execution_count": 110,
   "id": "225c4b5d-dbb9-46d7-b9f1-bd7961a7c91a",
   "metadata": {},
   "outputs": [
    {
     "ename": "ZeroDivisionError",
     "evalue": "division by zero",
     "output_type": "error",
     "traceback": [
      "\u001b[1;31m---------------------------------------------------------------------------\u001b[0m",
      "\u001b[1;31mZeroDivisionError\u001b[0m                         Traceback (most recent call last)",
      "Cell \u001b[1;32mIn[110], line 1\u001b[0m\n\u001b[1;32m----> 1\u001b[0m \u001b[38;5;28mprint\u001b[39m(\u001b[38;5;241m0\u001b[39m\u001b[38;5;241m/\u001b[39m\u001b[38;5;241m0\u001b[39m)\n",
      "\u001b[1;31mZeroDivisionError\u001b[0m: division by zero"
     ]
    }
   ],
   "source": [
    "print(0/0)"
   ]
  },
  {
   "cell_type": "code",
   "execution_count": 111,
   "id": "98210e7d-f7f2-4b26-85be-bd9879127188",
   "metadata": {},
   "outputs": [
    {
     "name": "stdout",
     "output_type": "stream",
     "text": [
      "Please Enter  first Number 23\n",
      "Please Enter Second Number 34\n"
     ]
    }
   ],
   "source": [
    "no1 = int(input(\"Please Enter  first Number\"))\n",
    "no2 = float(input(\"Please Enter Second Number\"))"
   ]
  },
  {
   "cell_type": "code",
   "execution_count": 112,
   "id": "a932bd78-9d6a-4420-835f-cb4ba2a629fe",
   "metadata": {},
   "outputs": [
    {
     "data": {
      "text/plain": [
       "False"
      ]
     },
     "execution_count": 112,
     "metadata": {},
     "output_type": "execute_result"
    }
   ],
   "source": [
    "no1==no2   "
   ]
  },
  {
   "cell_type": "code",
   "execution_count": 113,
   "id": "3c1c06da-4a24-4432-a106-40354cebb31a",
   "metadata": {},
   "outputs": [],
   "source": [
    "no1 = no2"
   ]
  },
  {
   "cell_type": "code",
   "execution_count": 114,
   "id": "07343781-f4b0-47b3-8363-fd8f0e656e2d",
   "metadata": {},
   "outputs": [
    {
     "data": {
      "text/plain": [
       "34.0"
      ]
     },
     "execution_count": 114,
     "metadata": {},
     "output_type": "execute_result"
    }
   ],
   "source": [
    "no1"
   ]
  },
  {
   "cell_type": "code",
   "execution_count": 115,
   "id": "919007a7-f1f7-4098-b376-deb8c2567507",
   "metadata": {},
   "outputs": [
    {
     "data": {
      "text/plain": [
       "34.0"
      ]
     },
     "execution_count": 115,
     "metadata": {},
     "output_type": "execute_result"
    }
   ],
   "source": [
    "no2"
   ]
  },
  {
   "cell_type": "code",
   "execution_count": 116,
   "id": "ce218677-28ab-4371-8ea1-fa43c1188fdb",
   "metadata": {},
   "outputs": [
    {
     "data": {
      "text/plain": [
       "True"
      ]
     },
     "execution_count": 116,
     "metadata": {},
     "output_type": "execute_result"
    }
   ],
   "source": [
    "no1==no2   \n"
   ]
  },
  {
   "cell_type": "code",
   "execution_count": null,
   "id": "e8d9dfb8-6c7e-40b5-aefb-03b3a9d45a7e",
   "metadata": {},
   "outputs": [],
   "source": []
  }
 ],
 "metadata": {
  "kernelspec": {
   "display_name": "Python 3",
   "language": "python",
   "name": "python3"
  },
  "language_info": {
   "codemirror_mode": {
    "name": "ipython",
    "version": 3
   },
   "file_extension": ".py",
   "mimetype": "text/x-python",
   "name": "python",
   "nbconvert_exporter": "python",
   "pygments_lexer": "ipython3",
   "version": "3.10.11"
  }
 },
 "nbformat": 4,
 "nbformat_minor": 5
}
